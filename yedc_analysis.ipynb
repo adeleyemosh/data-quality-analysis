{
 "cells": [
  {
   "cell_type": "markdown",
   "metadata": {},
   "source": [
    "## IMPORTS"
   ]
  },
  {
   "cell_type": "code",
   "execution_count": 1,
   "metadata": {},
   "outputs": [],
   "source": [
    "import pandas as pd\n",
    "import matplotlib.pyplot as plt\n",
    "import seaborn as sns\n",
    "\n",
    "from metrics.dataquality import calculate_data_quality_metrics, calculate_average_metrics\n",
    "\n",
    "from metrics.overallscore import calculate_overall_score\n",
    "from metrics.overallscore import calculate_overall_score_mom\n",
    "\n",
    "from metrics.feature_calculations import calculate_unique_meter_count\n",
    "from metrics.feature_calculations import calculate_metrics_by_month\n",
    "\n",
    "from metrics.datacollectorscore import calculate_quality_score_by_collector"
   ]
  },
  {
   "cell_type": "markdown",
   "metadata": {},
   "source": [
    "## READING DATA"
   ]
  },
  {
   "cell_type": "code",
   "execution_count": 2,
   "metadata": {},
   "outputs": [],
   "source": [
    "data = pd.read_csv(\"data/yedc/yedc_caims_data.csv\")"
   ]
  },
  {
   "cell_type": "code",
   "execution_count": 3,
   "metadata": {},
   "outputs": [],
   "source": [
    "column_mapping = {\n",
    "    'slrn': 'SLRN',\n",
    "    'ac_no': 'Account Number',\n",
    "    'meter_number': 'Meter Number',\n",
    "    'meter_status': 'Meter Status',\n",
    "    'meter_slrn': 'Meter SLRN',\n",
    "    'phone_number': 'Phone Number',\n",
    "    'email': 'Email',\n",
    "    'date': 'Date',\n",
    "    'first_captured_username': 'First Captured Username',\n",
    "    'updated_username': 'Updated Username'\n",
    "}\n",
    "data_x = data.copy()\n",
    "data_x.rename(columns=column_mapping, inplace=True)"
   ]
  },
  {
   "cell_type": "code",
   "execution_count": 4,
   "metadata": {},
   "outputs": [],
   "source": [
    "filtered_data_ecg = data_x[data_x['SLRN'].str.startswith('YEDC')]"
   ]
  },
  {
   "cell_type": "code",
   "execution_count": 5,
   "metadata": {},
   "outputs": [],
   "source": [
    "df = filtered_data_ecg.copy()"
   ]
  },
  {
   "cell_type": "code",
   "execution_count": 6,
   "metadata": {},
   "outputs": [
    {
     "data": {
      "text/plain": [
       "SLRN                        object\n",
       "Account Number             float64\n",
       "Date                        object\n",
       "Meter Number                object\n",
       "Meter SLRN                  object\n",
       "Meter Status                object\n",
       "region                      object\n",
       "district                    object\n",
       "Phone Number               float64\n",
       "Email                       object\n",
       "assigned_user               object\n",
       "First Captured Username     object\n",
       "Updated Username            object\n",
       "last_update_date            object\n",
       "Customer Status             object\n",
       "dtype: object"
      ]
     },
     "execution_count": 6,
     "metadata": {},
     "output_type": "execute_result"
    }
   ],
   "source": [
    "df.dtypes"
   ]
  },
  {
   "cell_type": "markdown",
   "metadata": {},
   "source": [
    "## METRICS"
   ]
  },
  {
   "cell_type": "code",
   "execution_count": 7,
   "metadata": {},
   "outputs": [
    {
     "name": "stdout",
     "output_type": "stream",
     "text": [
      "\n",
      "Sample Data: 6,220\n",
      "\n",
      "Quality Metrics for Each Field:\n",
      "\n",
      "Metrics for SLRN:\n",
      "Completeness: 100.00%\n",
      "Validity: 100.00%\n",
      "Integrity: 98.44%\n",
      "Overall Score: 99.60\n",
      "\n",
      "Metrics for Account Number:\n",
      "Completeness: 98.26%\n",
      "Validity: 98.20%\n",
      "Integrity: 82.00%\n",
      "Overall Score: 94.80\n",
      "\n",
      "Metrics for Meter Number:\n",
      "Completeness: 82.20%\n",
      "Validity: 82.19%\n",
      "Integrity: 82.19%\n",
      "Overall Score: 82.00\n",
      "\n",
      "Metrics for Phone Number:\n",
      "Completeness: 88.90%\n",
      "Validity: 88.89%\n",
      "Integrity: 73.04%\n",
      "Overall Score: 85.20\n",
      "\n",
      "Metrics for Email:\n",
      "Completeness: 37.28%\n",
      "Validity: 37.11%\n",
      "Integrity: 29.39%\n",
      "Overall Score: 36.40\n",
      "\n",
      "Quality Metrics - Average and Overall Score:\n",
      "Average Completeness: 81.33%\n",
      "Average Validity: 81.28%\n",
      "Average Integrity: 73.01%\n",
      "Overall Score: 80.40\n"
     ]
    }
   ],
   "source": [
    "metrics_list = []\n",
    "\n",
    "# Calculate metrics for each key field\n",
    "key_fields = ['SLRN', 'Account Number', 'Meter Number', 'Phone Number', 'Email']\n",
    "\n",
    "for field_name in key_fields:\n",
    "    if field_name in df.columns:\n",
    "        if field_name in ['SLRN', 'Account Number', 'Meter Number']:\n",
    "            metrics = calculate_data_quality_metrics(df, field_name, 'YEDCBD', 13)\n",
    "        elif field_name == 'Phone Number':\n",
    "            metrics = calculate_data_quality_metrics(df, field_name, 'YEDCBD', 13)\n",
    "        elif field_name == 'Email':\n",
    "            metrics = calculate_data_quality_metrics(df, field_name, 'YEDCBD', 13)\n",
    "        \n",
    "        metrics_list.append(metrics)\n",
    "\n",
    "# Calculate average completeness, validity, and integrity\n",
    "average_completeness = calculate_average_metrics(metrics_list, 'Completeness')\n",
    "average_validity = calculate_average_metrics(metrics_list, 'Validity')\n",
    "average_integrity = calculate_average_metrics(metrics_list, 'Integrity')\n",
    "\n",
    "# Calculate overall score using the overall_score function\n",
    "overall_score = calculate_overall_score(average_completeness, average_validity, average_integrity)\n",
    "\n",
    "total_caims_data = df['Meter Number'].count()\n",
    "print(f'\\nSample Data: {total_caims_data:,}')\n",
    "\n",
    "# Display the results\n",
    "print(\"\\nQuality Metrics for Each Field:\")\n",
    "for field_name in key_fields:\n",
    "    if field_name in df.columns:\n",
    "        print(f\"\\nMetrics for {field_name}:\")\n",
    "        print(f\"Completeness: {metrics_list[key_fields.index(field_name)]['Completeness']:.2f}%\")\n",
    "        print(f\"Validity: {metrics_list[key_fields.index(field_name)]['Validity']:.2f}%\")\n",
    "        print(f\"Integrity: {metrics_list[key_fields.index(field_name)]['Integrity']:.2f}%\")\n",
    "        \n",
    "        # Calculate and print the overall score for each field\n",
    "        field_overall_score = calculate_overall_score(\n",
    "            metrics_list[key_fields.index(field_name)]['Completeness'],\n",
    "            metrics_list[key_fields.index(field_name)]['Validity'],\n",
    "            metrics_list[key_fields.index(field_name)]['Integrity']\n",
    "        )\n",
    "        print(f\"Overall Score: {field_overall_score:.2f}\")\n",
    "\n",
    "print(\"\\nQuality Metrics - Average and Overall Score:\")\n",
    "print(f\"Average Completeness: {average_completeness:.2f}%\")\n",
    "print(f\"Average Validity: {average_validity:.2f}%\")\n",
    "print(f\"Average Integrity: {average_integrity:.2f}%\")\n",
    "print(f\"Overall Score: {overall_score:.2f}\")\n"
   ]
  },
  {
   "cell_type": "code",
   "execution_count": 8,
   "metadata": {},
   "outputs": [],
   "source": [
    "df['Date'] = pd.to_datetime(df['Date'])\n",
    "df['Year Month'] = df['Date'].dt.to_period('M')\n",
    "df['date'] = pd.to_datetime(df['Date']).dt.strftime('%Y-%m-%d')\n",
    "df[\"date\"] = df.date.astype(str)\n",
    "df[\"year_month\"] = df.date.str[0:7]\n",
    "df[\"year_month\"] = df.year_month.str.replace('-', '')\n",
    "df[\"year_month\"] = df.year_month.apply(lambda x: int(x) if str(x).isdigit() else 0)"
   ]
  },
  {
   "cell_type": "code",
   "execution_count": 9,
   "metadata": {},
   "outputs": [],
   "source": [
    "# Compute unique meter count\n",
    "unique_meter_count_df = calculate_unique_meter_count(df, 'Year Month', 'Meter Number')\n",
    "\n",
    "\n",
    "# Calculate overall data quality score on a monthly basis and link it back to the DataFrame\n",
    "mom_overall_score = calculate_overall_score_mom(df)\n",
    "mom_overall_score_fil = mom_overall_score[mom_overall_score['year_month'] >= 202301]\n",
    "mom_overall_score_fil = mom_overall_score_fil[['Year Month', 'Overall Score', 'year_month']]\n",
    "mom_overall_score_fil = mom_overall_score_fil.sort_values(by='year_month', ascending=True)\n",
    "mom_overall_score_fil = mom_overall_score_fil.drop_duplicates(subset=['Year Month'])\n",
    "\n",
    "mom_overall_score_fil = pd.merge(mom_overall_score_fil, unique_meter_count_df, on='Year Month', how='left')"
   ]
  },
  {
   "cell_type": "markdown",
   "metadata": {},
   "source": [
    "## MOM CHART"
   ]
  },
  {
   "cell_type": "code",
   "execution_count": 10,
   "metadata": {},
   "outputs": [
    {
     "data": {
      "image/png": "[encoded data removed]",
      "text/plain": [
       "<Figure size 1440x720 with 2 Axes>"
      ]
     },
     "metadata": {
      "needs_background": "light"
     },
     "output_type": "display_data"
    }
   ],
   "source": [
    "# Plot overall data quality score on a MoM basis\n",
    "fig, ax1 = plt.subplots(figsize=(20, 10))\n",
    "\n",
    "# Plot the overall score on the primary y-axis\n",
    "ax1.plot(mom_overall_score_fil['Year Month'].astype(str), mom_overall_score_fil['Overall Score'].round(2), marker='o', linestyle='-', color='b', label='Overall Score')\n",
    "ax1.set_xlabel('Year Month')\n",
    "ax1.set_ylabel('Overall Score', color='b')\n",
    "ax1.tick_params('y', colors='b')\n",
    "\n",
    "# Text annotations\n",
    "for i, txt in enumerate(mom_overall_score_fil['Overall Score'].round(2)):\n",
    "    ax1.text(mom_overall_score_fil['Year Month'].astype(str).iloc[i], txt, f'{txt:.2f}', ha='center', va='bottom')\n",
    "\n",
    "# Secondary y-axis for the count of unique meter numbers\n",
    "ax2 = ax1.twinx()\n",
    "bars = ax2.bar(mom_overall_score_fil['Year Month'].astype(str), mom_overall_score_fil['Unique Meter Count'], alpha=0.6, color='red', label='Unique Meter Count')\n",
    "ax2.set_ylabel('Total Customers', color='r')\n",
    "ax2.tick_params('y', colors='r')\n",
    "\n",
    "# Add labels on the bar chart with MoM figures\n",
    "for bar in bars:\n",
    "    yval = bar.get_height()\n",
    "    ax2.text(bar.get_x() + bar.get_width()/2, yval, f'{yval:,.0f}', va='bottom', ha='center')\n",
    "\n",
    "# Show the plot\n",
    "plt.title('Overall Data Quality Score and Unique Customer Count (MoM)')\n",
    "plt.grid(True)\n",
    "plt.show()\n"
   ]
  },
  {
   "cell_type": "code",
   "execution_count": null,
   "metadata": {},
   "outputs": [],
   "source": [
    "mom_overall_score_fil[['Year Month', 'Overall Score']].to_csv('data/exports/mom_overall_score_dec_2023.csv', index=False)"
   ]
  },
  {
   "cell_type": "markdown",
   "metadata": {},
   "source": [
    "### CALCULATE METRICS BY MONTH"
   ]
  },
  {
   "cell_type": "code",
   "execution_count": 11,
   "metadata": {},
   "outputs": [
    {
     "ename": "TypeError",
     "evalue": "calculate_metrics_by_month() missing 2 required positional arguments: 'meter_slrn' and 'mslrn_len'",
     "output_type": "error",
     "traceback": [
      "\u001b[1;31m---------------------------------------------------------------------------\u001b[0m",
      "\u001b[1;31mTypeError\u001b[0m                                 Traceback (most recent call last)",
      "Input \u001b[1;32mIn [11]\u001b[0m, in \u001b[0;36m<cell line: 3>\u001b[1;34m()\u001b[0m\n\u001b[0;32m      1\u001b[0m key_fields \u001b[38;5;241m=\u001b[39m [\u001b[38;5;124m'\u001b[39m\u001b[38;5;124mSLRN\u001b[39m\u001b[38;5;124m'\u001b[39m, \u001b[38;5;124m'\u001b[39m\u001b[38;5;124mAccount Number\u001b[39m\u001b[38;5;124m'\u001b[39m, \u001b[38;5;124m'\u001b[39m\u001b[38;5;124mMeter Number\u001b[39m\u001b[38;5;124m'\u001b[39m, \u001b[38;5;124m'\u001b[39m\u001b[38;5;124mPhone Number\u001b[39m\u001b[38;5;124m'\u001b[39m, \u001b[38;5;124m'\u001b[39m\u001b[38;5;124mEmail\u001b[39m\u001b[38;5;124m'\u001b[39m]\n\u001b[1;32m----> 3\u001b[0m mom_data_quality_metrics \u001b[38;5;241m=\u001b[39m \u001b[43mcalculate_metrics_by_month\u001b[49m\u001b[43m(\u001b[49m\n\u001b[0;32m      4\u001b[0m \u001b[43m    \u001b[49m\u001b[43mdf\u001b[49m\u001b[43m,\u001b[49m\u001b[43m \u001b[49m\n\u001b[0;32m      5\u001b[0m \u001b[43m    \u001b[49m\u001b[43mkey_fields\u001b[49m\u001b[43m,\u001b[49m\u001b[43m \u001b[49m\n\u001b[0;32m      6\u001b[0m \u001b[43m    \u001b[49m\u001b[43mbd_slrn\u001b[49m\u001b[38;5;241;43m=\u001b[39;49m\u001b[38;5;124;43m'\u001b[39;49m\u001b[38;5;124;43mYEDCBD\u001b[39;49m\u001b[38;5;124;43m'\u001b[39;49m\u001b[43m,\u001b[49m\u001b[43m \u001b[49m\n\u001b[0;32m      7\u001b[0m \u001b[43m    \u001b[49m\u001b[43mbdslrn_len\u001b[49m\u001b[38;5;241;43m=\u001b[39;49m\u001b[38;5;241;43m13\u001b[39;49m\u001b[43m,\u001b[49m\u001b[43m \u001b[49m\n\u001b[0;32m      8\u001b[0m \u001b[43m)\u001b[49m\n",
      "\u001b[1;31mTypeError\u001b[0m: calculate_metrics_by_month() missing 2 required positional arguments: 'meter_slrn' and 'mslrn_len'"
     ]
    }
   ],
   "source": [
    "key_fields = ['SLRN', 'Account Number', 'Meter Number', 'Phone Number', 'Email']\n",
    "\n",
    "mom_data_quality_metrics = calculate_metrics_by_month(\n",
    "    df, \n",
    "    key_fields, \n",
    "    bd_slrn='YEDCBD', \n",
    "    bdslrn_len=13, \n",
    ")"
   ]
  },
  {
   "cell_type": "code",
   "execution_count": 14,
   "metadata": {},
   "outputs": [
    {
     "data": {
      "text/html": [
       "<div>\n",
       "<style scoped>\n",
       "    .dataframe tbody tr th:only-of-type {\n",
       "        vertical-align: middle;\n",
       "    }\n",
       "\n",
       "    .dataframe tbody tr th {\n",
       "        vertical-align: top;\n",
       "    }\n",
       "\n",
       "    .dataframe thead th {\n",
       "        text-align: right;\n",
       "    }\n",
       "</style>\n",
       "<table border=\"1\" class=\"dataframe\">\n",
       "  <thead>\n",
       "    <tr style=\"text-align: right;\">\n",
       "      <th></th>\n",
       "      <th>Year Month</th>\n",
       "      <th>Key fields</th>\n",
       "      <th>Completeness</th>\n",
       "      <th>Validity</th>\n",
       "      <th>Integrity</th>\n",
       "      <th>Overall Score</th>\n",
       "      <th>Unique Meter Count</th>\n",
       "    </tr>\n",
       "  </thead>\n",
       "  <tbody>\n",
       "    <tr>\n",
       "      <th>99</th>\n",
       "      <td>2024-01</td>\n",
       "      <td>Meter SLRN</td>\n",
       "      <td>99.916430</td>\n",
       "      <td>99.916430</td>\n",
       "      <td>99.916430</td>\n",
       "      <td>74.0</td>\n",
       "      <td>66808</td>\n",
       "    </tr>\n",
       "    <tr>\n",
       "      <th>101</th>\n",
       "      <td>2024-01</td>\n",
       "      <td>Email</td>\n",
       "      <td>0.583495</td>\n",
       "      <td>0.583495</td>\n",
       "      <td>0.583495</td>\n",
       "      <td>74.0</td>\n",
       "      <td>66808</td>\n",
       "    </tr>\n",
       "    <tr>\n",
       "      <th>96</th>\n",
       "      <td>2024-01</td>\n",
       "      <td>SLRN</td>\n",
       "      <td>100.000000</td>\n",
       "      <td>99.998508</td>\n",
       "      <td>99.919415</td>\n",
       "      <td>74.0</td>\n",
       "      <td>66808</td>\n",
       "    </tr>\n",
       "    <tr>\n",
       "      <th>97</th>\n",
       "      <td>2024-01</td>\n",
       "      <td>Account Number</td>\n",
       "      <td>71.651992</td>\n",
       "      <td>71.651992</td>\n",
       "      <td>71.635577</td>\n",
       "      <td>74.0</td>\n",
       "      <td>66808</td>\n",
       "    </tr>\n",
       "    <tr>\n",
       "      <th>98</th>\n",
       "      <td>2024-01</td>\n",
       "      <td>Meter Number</td>\n",
       "      <td>99.923892</td>\n",
       "      <td>99.898523</td>\n",
       "      <td>100.000000</td>\n",
       "      <td>74.0</td>\n",
       "      <td>66808</td>\n",
       "    </tr>\n",
       "    <tr>\n",
       "      <th>...</th>\n",
       "      <td>...</td>\n",
       "      <td>...</td>\n",
       "      <td>...</td>\n",
       "      <td>...</td>\n",
       "      <td>...</td>\n",
       "      <td>...</td>\n",
       "      <td>...</td>\n",
       "    </tr>\n",
       "    <tr>\n",
       "      <th>12</th>\n",
       "      <td>2022-08</td>\n",
       "      <td>SLRN</td>\n",
       "      <td>100.000000</td>\n",
       "      <td>99.990402</td>\n",
       "      <td>100.000000</td>\n",
       "      <td>86.0</td>\n",
       "      <td>10223</td>\n",
       "    </tr>\n",
       "    <tr>\n",
       "      <th>17</th>\n",
       "      <td>2022-08</td>\n",
       "      <td>Email</td>\n",
       "      <td>62.846722</td>\n",
       "      <td>22.055859</td>\n",
       "      <td>1.650830</td>\n",
       "      <td>86.0</td>\n",
       "      <td>10223</td>\n",
       "    </tr>\n",
       "    <tr>\n",
       "      <th>16</th>\n",
       "      <td>2022-08</td>\n",
       "      <td>Phone Number</td>\n",
       "      <td>96.995873</td>\n",
       "      <td>89.634322</td>\n",
       "      <td>76.312506</td>\n",
       "      <td>86.0</td>\n",
       "      <td>10223</td>\n",
       "    </tr>\n",
       "    <tr>\n",
       "      <th>15</th>\n",
       "      <td>2022-08</td>\n",
       "      <td>Meter SLRN</td>\n",
       "      <td>97.725310</td>\n",
       "      <td>97.235819</td>\n",
       "      <td>97.725310</td>\n",
       "      <td>86.0</td>\n",
       "      <td>10223</td>\n",
       "    </tr>\n",
       "    <tr>\n",
       "      <th>13</th>\n",
       "      <td>2022-08</td>\n",
       "      <td>Account Number</td>\n",
       "      <td>99.664075</td>\n",
       "      <td>98.483540</td>\n",
       "      <td>97.926864</td>\n",
       "      <td>86.0</td>\n",
       "      <td>10223</td>\n",
       "    </tr>\n",
       "  </tbody>\n",
       "</table>\n",
       "<p>108 rows × 7 columns</p>\n",
       "</div>"
      ],
      "text/plain": [
       "    Year Month      Key fields  Completeness   Validity   Integrity  \\\n",
       "99     2024-01      Meter SLRN     99.916430  99.916430   99.916430   \n",
       "101    2024-01           Email      0.583495   0.583495    0.583495   \n",
       "96     2024-01            SLRN    100.000000  99.998508   99.919415   \n",
       "97     2024-01  Account Number     71.651992  71.651992   71.635577   \n",
       "98     2024-01    Meter Number     99.923892  99.898523  100.000000   \n",
       "..         ...             ...           ...        ...         ...   \n",
       "12     2022-08            SLRN    100.000000  99.990402  100.000000   \n",
       "17     2022-08           Email     62.846722  22.055859    1.650830   \n",
       "16     2022-08    Phone Number     96.995873  89.634322   76.312506   \n",
       "15     2022-08      Meter SLRN     97.725310  97.235819   97.725310   \n",
       "13     2022-08  Account Number     99.664075  98.483540   97.926864   \n",
       "\n",
       "     Overall Score  Unique Meter Count  \n",
       "99            74.0               66808  \n",
       "101           74.0               66808  \n",
       "96            74.0               66808  \n",
       "97            74.0               66808  \n",
       "98            74.0               66808  \n",
       "..             ...                 ...  \n",
       "12            86.0               10223  \n",
       "17            86.0               10223  \n",
       "16            86.0               10223  \n",
       "15            86.0               10223  \n",
       "13            86.0               10223  \n",
       "\n",
       "[108 rows x 7 columns]"
      ]
     },
     "execution_count": 14,
     "metadata": {},
     "output_type": "execute_result"
    }
   ],
   "source": [
    "mom_data_quality_metrics"
   ]
  },
  {
   "cell_type": "code",
   "execution_count": 15,
   "metadata": {},
   "outputs": [],
   "source": [
    "mom_data_quality_metrics.to_csv('data/exports/mom_metrics.csv', index=False)"
   ]
  },
  {
   "cell_type": "code",
   "execution_count": null,
   "metadata": {},
   "outputs": [],
   "source": [
    "jan_df = df[df['Date'] > '2023-12-31']\n",
    "dec_df = df[df['year_month'] == 202312]"
   ]
  },
  {
   "cell_type": "code",
   "execution_count": null,
   "metadata": {},
   "outputs": [],
   "source": [
    "dec_df.to_csv('dec_df.csv', index=False)"
   ]
  },
  {
   "cell_type": "markdown",
   "metadata": {},
   "source": [
    "## QUALITY SCORE BY DATA COLLECTOR"
   ]
  },
  {
   "cell_type": "code",
   "execution_count": null,
   "metadata": {},
   "outputs": [
    {
     "data": {
      "text/html": [
       "<div>\n",
       "<style scoped>\n",
       "    .dataframe tbody tr th:only-of-type {\n",
       "        vertical-align: middle;\n",
       "    }\n",
       "\n",
       "    .dataframe tbody tr th {\n",
       "        vertical-align: top;\n",
       "    }\n",
       "\n",
       "    .dataframe thead th {\n",
       "        text-align: right;\n",
       "    }\n",
       "</style>\n",
       "<table border=\"1\" class=\"dataframe\">\n",
       "  <thead>\n",
       "    <tr style=\"text-align: right;\">\n",
       "      <th></th>\n",
       "      <th>Average Completeness</th>\n",
       "      <th>Average Validity</th>\n",
       "      <th>Average Integrity</th>\n",
       "      <th>Overall Average</th>\n",
       "    </tr>\n",
       "  </thead>\n",
       "  <tbody>\n",
       "    <tr>\n",
       "      <th>RolandA</th>\n",
       "      <td>40.00%</td>\n",
       "      <td>40.00%</td>\n",
       "      <td>40.00%</td>\n",
       "      <td>40.00%</td>\n",
       "    </tr>\n",
       "    <tr>\n",
       "      <th>AsieduS</th>\n",
       "      <td>40.00%</td>\n",
       "      <td>40.00%</td>\n",
       "      <td>40.00%</td>\n",
       "      <td>40.00%</td>\n",
       "    </tr>\n",
       "    <tr>\n",
       "      <th>CharlesA</th>\n",
       "      <td>37.78%</td>\n",
       "      <td>37.78%</td>\n",
       "      <td>36.67%</td>\n",
       "      <td>37.41%</td>\n",
       "    </tr>\n",
       "    <tr>\n",
       "      <th>Abugaemmanuel</th>\n",
       "      <td>36.67%</td>\n",
       "      <td>36.67%</td>\n",
       "      <td>36.67%</td>\n",
       "      <td>36.67%</td>\n",
       "    </tr>\n",
       "    <tr>\n",
       "      <th>ErnestKabu</th>\n",
       "      <td>36.88%</td>\n",
       "      <td>36.60%</td>\n",
       "      <td>36.28%</td>\n",
       "      <td>36.59%</td>\n",
       "    </tr>\n",
       "    <tr>\n",
       "      <th>...</th>\n",
       "      <td>...</td>\n",
       "      <td>...</td>\n",
       "      <td>...</td>\n",
       "      <td>...</td>\n",
       "    </tr>\n",
       "    <tr>\n",
       "      <th>StephanieOwusu</th>\n",
       "      <td>24.71%</td>\n",
       "      <td>24.00%</td>\n",
       "      <td>21.18%</td>\n",
       "      <td>23.29%</td>\n",
       "    </tr>\n",
       "    <tr>\n",
       "      <th>EnochOsei</th>\n",
       "      <td>24.03%</td>\n",
       "      <td>23.53%</td>\n",
       "      <td>21.55%</td>\n",
       "      <td>23.04%</td>\n",
       "    </tr>\n",
       "    <tr>\n",
       "      <th>JenniferNdinga</th>\n",
       "      <td>23.05%</td>\n",
       "      <td>22.92%</td>\n",
       "      <td>22.79%</td>\n",
       "      <td>22.92%</td>\n",
       "    </tr>\n",
       "    <tr>\n",
       "      <th>PeterBernasko</th>\n",
       "      <td>21.25%</td>\n",
       "      <td>21.17%</td>\n",
       "      <td>20.83%</td>\n",
       "      <td>21.08%</td>\n",
       "    </tr>\n",
       "    <tr>\n",
       "      <th>BelindaArthur</th>\n",
       "      <td>26.67%</td>\n",
       "      <td>13.33%</td>\n",
       "      <td>20.00%</td>\n",
       "      <td>20.00%</td>\n",
       "    </tr>\n",
       "  </tbody>\n",
       "</table>\n",
       "<p>855 rows × 4 columns</p>\n",
       "</div>"
      ],
      "text/plain": [
       "               Average Completeness Average Validity Average Integrity  \\\n",
       "RolandA                      40.00%           40.00%            40.00%   \n",
       "AsieduS                      40.00%           40.00%            40.00%   \n",
       "CharlesA                     37.78%           37.78%            36.67%   \n",
       "Abugaemmanuel                36.67%           36.67%            36.67%   \n",
       "ErnestKabu                   36.88%           36.60%            36.28%   \n",
       "...                             ...              ...               ...   \n",
       "StephanieOwusu               24.71%           24.00%            21.18%   \n",
       "EnochOsei                    24.03%           23.53%            21.55%   \n",
       "JenniferNdinga               23.05%           22.92%            22.79%   \n",
       "PeterBernasko                21.25%           21.17%            20.83%   \n",
       "BelindaArthur                26.67%           13.33%            20.00%   \n",
       "\n",
       "               Overall Average  \n",
       "RolandA                 40.00%  \n",
       "AsieduS                 40.00%  \n",
       "CharlesA                37.41%  \n",
       "Abugaemmanuel           36.67%  \n",
       "ErnestKabu              36.59%  \n",
       "...                        ...  \n",
       "StephanieOwusu          23.29%  \n",
       "EnochOsei               23.04%  \n",
       "JenniferNdinga          22.92%  \n",
       "PeterBernasko           21.08%  \n",
       "BelindaArthur           20.00%  \n",
       "\n",
       "[855 rows x 4 columns]"
      ]
     },
     "execution_count": 11,
     "metadata": {},
     "output_type": "execute_result"
    }
   ],
   "source": [
    "df_x = df[df['year_month'] >= 202311]\n",
    "\n",
    "field_metrics = ['SLRN', 'Account Number', 'Meter Number', 'Meter SLRN', 'Phone Number', 'Email']\n",
    "\n",
    "collector_scores = calculate_quality_score_by_collector(df_x, field_metrics)\n",
    "\n",
    "collector_scores\n"
   ]
  },
  {
   "cell_type": "code",
   "execution_count": null,
   "metadata": {},
   "outputs": [],
   "source": [
    "collector_scores.to_csv('data/exports/collectors_score_dec_2023.csv', index=True)"
   ]
  },
  {
   "cell_type": "code",
   "execution_count": null,
   "metadata": {},
   "outputs": [],
   "source": []
  },
  {
   "cell_type": "code",
   "execution_count": null,
   "metadata": {},
   "outputs": [],
   "source": []
  },
  {
   "cell_type": "code",
   "execution_count": null,
   "metadata": {},
   "outputs": [],
   "source": []
  },
  {
   "cell_type": "code",
   "execution_count": null,
   "metadata": {},
   "outputs": [],
   "source": []
  }
 ],
 "metadata": {
  "kernelspec": {
   "display_name": "Python 3",
   "language": "python",
   "name": "python3"
  },
  "language_info": {
   "codemirror_mode": {
    "name": "ipython",
    "version": 3
   },
   "file_extension": ".py",
   "mimetype": "text/x-python",
   "name": "python",
   "nbconvert_exporter": "python",
   "pygments_lexer": "ipython3",
   "version": "3.10.6"
  }
 },
 "nbformat": 4,
 "nbformat_minor": 2
}
