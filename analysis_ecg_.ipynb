{
 "cells": [
  {
   "cell_type": "markdown",
   "metadata": {},
   "source": [
    "## IMPORTS"
   ]
  },
  {
   "cell_type": "code",
   "execution_count": 1,
   "metadata": {},
   "outputs": [],
   "source": [
    "import pandas as pd\n",
    "import matplotlib.pyplot as plt\n",
    "import seaborn as sns\n",
    "\n",
    "from metrics.overallscore import calculate_overall_score\n",
    "from metrics.dataquality import calculate_data_quality_metrics\n",
    "from metrics.dataquality import calculate_phone_number_metrics\n",
    "from metrics.dataquality import calculate_email_metrics\n",
    "from metrics.dataquality import calculate_average_metrics\n",
    "from metrics.overallscore import calculate_overall_score_mom\n",
    "from metrics.datacollectorscore import calculate_quality_score_by_collector"
   ]
  },
  {
   "cell_type": "markdown",
   "metadata": {},
   "source": [
    "## READING DATA"
   ]
  },
  {
   "cell_type": "code",
   "execution_count": 2,
   "metadata": {},
   "outputs": [],
   "source": [
    "# data = pd.read_csv(\"data/ecg/customers_sep_nov.csv\")\n",
    "data = pd.read_csv(\"data/ecg/customers_two.csv\")"
   ]
  },
  {
   "cell_type": "code",
   "execution_count": 3,
   "metadata": {},
   "outputs": [],
   "source": [
    "column_mapping = {\n",
    "    'slrn': 'SLRN',\n",
    "    'ac_no': 'Account Number',\n",
    "    'meter_number': 'Meter Number',\n",
    "    'meter_status': 'Meter Status',\n",
    "    'meter_slrn': 'Meter SLRN',\n",
    "    'phone_number': 'Phone Number',\n",
    "    'email': 'Email',\n",
    "    'date': 'Date',\n",
    "    'first_captured_username': 'First Captured Username',\n",
    "    'updated_username': 'Updated Username'\n",
    "}\n",
    "data_x = data.copy()\n",
    "data_x.rename(columns=column_mapping, inplace=True)"
   ]
  },
  {
   "cell_type": "code",
   "execution_count": 4,
   "metadata": {},
   "outputs": [],
   "source": [
    "df = data_x"
   ]
  },
  {
   "cell_type": "markdown",
   "metadata": {},
   "source": [
    "## METRICS"
   ]
  },
  {
   "cell_type": "code",
   "execution_count": 5,
   "metadata": {},
   "outputs": [
    {
     "name": "stdout",
     "output_type": "stream",
     "text": [
      "\n",
      "Quality Metrics for Each Field:\n",
      "\n",
      "Metrics for SLRN:\n",
      "Completeness: 100.00%\n",
      "Validity: 99.91%\n",
      "Integrity: 100.00%\n",
      "Overall Score: 100.00\n",
      "\n",
      "Metrics for Account Number:\n",
      "Completeness: 87.67%\n",
      "Validity: 81.42%\n",
      "Integrity: 100.00%\n",
      "Overall Score: 88.00\n",
      "\n",
      "Metrics for Meter Number:\n",
      "Completeness: 99.98%\n",
      "Validity: 99.15%\n",
      "Integrity: 56.95%\n",
      "Overall Score: 91.20\n",
      "\n",
      "Metrics for Meter SLRN:\n",
      "Completeness: 99.97%\n",
      "Validity: 99.81%\n",
      "Integrity: 99.98%\n",
      "Overall Score: 100.00\n",
      "\n",
      "Metrics for Phone Number:\n",
      "Completeness: 76.37%\n",
      "Validity: 59.76%\n",
      "Integrity: 51.03%\n",
      "Overall Score: 64.80\n",
      "\n",
      "Metrics for Email:\n",
      "Completeness: 50.51%\n",
      "Validity: 17.20%\n",
      "Integrity: 0.54%\n",
      "Overall Score: 27.20\n",
      "\n",
      "Quality Metrics - Average and Overall Score:\n",
      "Average Completeness: 85.75%\n",
      "Average Validity: 76.21%\n",
      "Average Integrity: 68.08%\n",
      "Overall Score: 78.40\n"
     ]
    }
   ],
   "source": [
    "# List to store metrics for each key field\n",
    "metrics_list = []\n",
    "\n",
    "# Calculate metrics for each key field\n",
    "key_fields = ['SLRN', 'Account Number', 'Meter Number', 'Meter SLRN', 'Phone Number', 'Email']\n",
    "\n",
    "for field_name in key_fields:\n",
    "    if field_name in df.columns:\n",
    "        if field_name in ['SLRN', 'Account Number', 'Meter Number', 'Meter SLRN']:\n",
    "            metrics = calculate_data_quality_metrics(df, field_name, 'ECGBD', 12, 'ECGCR', 11)\n",
    "        elif field_name == 'Phone Number':\n",
    "            metrics = calculate_phone_number_metrics(df, field_name, 'ECGBD', corresponding_meter_field='Meter Number')\n",
    "        elif field_name == 'Email':\n",
    "            metrics = calculate_email_metrics(df, field_name, corresponding_meter_field='Meter Number')\n",
    "        \n",
    "        metrics_list.append(metrics)\n",
    "\n",
    "# Calculate average completeness, validity, and integrity\n",
    "average_completeness = calculate_average_metrics(metrics_list, 'Completeness')\n",
    "average_validity = calculate_average_metrics(metrics_list, 'Validity')\n",
    "average_integrity = calculate_average_metrics(metrics_list, 'Integrity')\n",
    "\n",
    "# Calculate overall score using the overall_score function\n",
    "overall_score = calculate_overall_score(average_completeness, average_validity, average_integrity)\n",
    "\n",
    "# Display the results\n",
    "print(\"\\nQuality Metrics for Each Field:\")\n",
    "for field_name in key_fields:\n",
    "    if field_name in df.columns:\n",
    "        print(f\"\\nMetrics for {field_name}:\")\n",
    "        print(f\"Completeness: {metrics_list[key_fields.index(field_name)]['Completeness']:.2f}%\")\n",
    "        print(f\"Validity: {metrics_list[key_fields.index(field_name)]['Validity']:.2f}%\")\n",
    "        print(f\"Integrity: {metrics_list[key_fields.index(field_name)]['Integrity']:.2f}%\")\n",
    "        \n",
    "        # Calculate and print the overall score for each field\n",
    "        field_overall_score = calculate_overall_score(\n",
    "            metrics_list[key_fields.index(field_name)]['Completeness'],\n",
    "            metrics_list[key_fields.index(field_name)]['Validity'],\n",
    "            metrics_list[key_fields.index(field_name)]['Integrity']\n",
    "        )\n",
    "        print(f\"Overall Score: {field_overall_score:.2f}\")\n",
    "\n",
    "print(\"\\nQuality Metrics - Average and Overall Score:\")\n",
    "print(f\"Average Completeness: {average_completeness:.2f}%\")\n",
    "print(f\"Average Validity: {average_validity:.2f}%\")\n",
    "print(f\"Average Integrity: {average_integrity:.2f}%\")\n",
    "print(f\"Overall Score: {overall_score:.2f}\")\n"
   ]
  },
  {
   "cell_type": "code",
   "execution_count": 6,
   "metadata": {},
   "outputs": [],
   "source": [
    "df['Date'] = pd.to_datetime(df['Date'])\n",
    "df['Year Month'] = df['Date'].dt.to_period('M')\n",
    "df['date'] = pd.to_datetime(df['Date']).dt.strftime('%Y-%m-%d')\n",
    "df[\"date\"] = df.date.astype(str)\n",
    "df[\"year_month\"] = df.date.str[0:7]\n",
    "df[\"year_month\"] = df.year_month.str.replace('-', '')\n",
    "df[\"year_month\"] = df.year_month.apply(lambda x: int(x) if str(x).isdigit() else 0)"
   ]
  },
  {
   "cell_type": "code",
   "execution_count": 7,
   "metadata": {},
   "outputs": [],
   "source": [
    "def calculate_unique_meter_count(df, date_column, meter_number_column):\n",
    "    unique_meter_count = df.groupby(date_column)[meter_number_column].nunique().reset_index()\n",
    "    unique_meter_count.columns = [date_column, 'Unique Meter Count']\n",
    "    return unique_meter_count\n",
    "\n",
    "# Compute unique meter count\n",
    "unique_meter_count_df = calculate_unique_meter_count(df, 'Year Month', 'Meter Number')\n",
    "\n",
    "\n",
    "# Calculate overall data quality score on a monthly basis and link it back to the DataFrame\n",
    "mom_overall_score = calculate_overall_score_mom(df)\n",
    "mom_overall_score_fil = mom_overall_score[mom_overall_score['year_month'] >= 202301]\n",
    "mom_overall_score_fil = mom_overall_score_fil[['Year Month', 'Overall Score', 'year_month']]\n",
    "mom_overall_score_fil = mom_overall_score_fil.sort_values(by='year_month', ascending=True)\n",
    "mom_overall_score_fil = mom_overall_score_fil.drop_duplicates(subset=['Year Month'])\n",
    "\n",
    "mom_overall_score_fil = pd.merge(mom_overall_score_fil, unique_meter_count_df, on='Year Month', how='left')"
   ]
  },
  {
   "cell_type": "markdown",
   "metadata": {},
   "source": [
    "## MOM CHART"
   ]
  },
  {
   "cell_type": "code",
   "execution_count": 8,
   "metadata": {},
   "outputs": [
    {
     "data": {
      "image/png": "[encoded data removed]",
      "text/plain": [
       "<Figure size 1440x720 with 2 Axes>"
      ]
     },
     "metadata": {
      "needs_background": "light"
     },
     "output_type": "display_data"
    }
   ],
   "source": [
    "# Plot overall data quality score on a MoM basis\n",
    "fig, ax1 = plt.subplots(figsize=(20, 10))\n",
    "\n",
    "# Plot the overall score on the primary y-axis\n",
    "ax1.plot(mom_overall_score_fil['Year Month'].astype(str), mom_overall_score_fil['Overall Score'].round(2), marker='o', linestyle='-', color='b', label='Overall Score')\n",
    "ax1.set_xlabel('Year Month')\n",
    "ax1.set_ylabel('Overall Score', color='b')\n",
    "ax1.tick_params('y', colors='b')\n",
    "\n",
    "# Text annotations\n",
    "for i, txt in enumerate(mom_overall_score_fil['Overall Score'].round(2)):\n",
    "    ax1.text(mom_overall_score_fil['Year Month'].astype(str).iloc[i], txt, f'{txt:.2f}', ha='center', va='bottom')\n",
    "\n",
    "# Secondary y-axis for the count of unique meter numbers\n",
    "ax2 = ax1.twinx()\n",
    "bars = ax2.bar(mom_overall_score_fil['Year Month'].astype(str), mom_overall_score_fil['Unique Meter Count'], alpha=0.6, color='red', label='Unique Meter Count')\n",
    "ax2.set_ylabel('Total Customers', color='r')\n",
    "ax2.tick_params('y', colors='r')\n",
    "\n",
    "# Add labels on the bar chart with MoM figures\n",
    "for bar in bars:\n",
    "    yval = bar.get_height()\n",
    "    ax2.text(bar.get_x() + bar.get_width()/2, yval, f'{yval:,.0f}', va='bottom', ha='center')\n",
    "\n",
    "# Show the plot\n",
    "plt.title('Overall Data Quality Score and Unique Meter Count (MoM)')\n",
    "plt.grid(True)\n",
    "plt.show()\n"
   ]
  },
  {
   "cell_type": "code",
   "execution_count": 9,
   "metadata": {},
   "outputs": [],
   "source": [
    "mom_overall_score_fil[['Year Month', 'Overall Score']].to_csv('mom_overall_score_.csv', index=False)"
   ]
  },
  {
   "cell_type": "markdown",
   "metadata": {},
   "source": [
    "## QUALITY SCORE BY DATA COLLECTOR"
   ]
  },
  {
   "cell_type": "code",
   "execution_count": 10,
   "metadata": {},
   "outputs": [
    {
     "data": {
      "text/html": [
       "<div>\n",
       "<style scoped>\n",
       "    .dataframe tbody tr th:only-of-type {\n",
       "        vertical-align: middle;\n",
       "    }\n",
       "\n",
       "    .dataframe tbody tr th {\n",
       "        vertical-align: top;\n",
       "    }\n",
       "\n",
       "    .dataframe thead th {\n",
       "        text-align: right;\n",
       "    }\n",
       "</style>\n",
       "<table border=\"1\" class=\"dataframe\">\n",
       "  <thead>\n",
       "    <tr style=\"text-align: right;\">\n",
       "      <th></th>\n",
       "      <th>Average Completeness</th>\n",
       "      <th>Average Validity</th>\n",
       "      <th>Average Integrity</th>\n",
       "      <th>Overall Average</th>\n",
       "    </tr>\n",
       "  </thead>\n",
       "  <tbody>\n",
       "    <tr>\n",
       "      <th>KwameA</th>\n",
       "      <td>40.00%</td>\n",
       "      <td>35.56%</td>\n",
       "      <td>33.33%</td>\n",
       "      <td>36.30%</td>\n",
       "    </tr>\n",
       "    <tr>\n",
       "      <th>AndrewBrew</th>\n",
       "      <td>40.00%</td>\n",
       "      <td>35.56%</td>\n",
       "      <td>33.33%</td>\n",
       "      <td>36.30%</td>\n",
       "    </tr>\n",
       "    <tr>\n",
       "      <th>ErnestBoateng</th>\n",
       "      <td>40.00%</td>\n",
       "      <td>35.56%</td>\n",
       "      <td>33.33%</td>\n",
       "      <td>36.30%</td>\n",
       "    </tr>\n",
       "    <tr>\n",
       "      <th>AfranewaahN</th>\n",
       "      <td>40.00%</td>\n",
       "      <td>35.56%</td>\n",
       "      <td>33.33%</td>\n",
       "      <td>36.30%</td>\n",
       "    </tr>\n",
       "    <tr>\n",
       "      <th>AbdulAziz</th>\n",
       "      <td>38.10%</td>\n",
       "      <td>34.29%</td>\n",
       "      <td>32.38%</td>\n",
       "      <td>34.92%</td>\n",
       "    </tr>\n",
       "    <tr>\n",
       "      <th>...</th>\n",
       "      <td>...</td>\n",
       "      <td>...</td>\n",
       "      <td>...</td>\n",
       "      <td>...</td>\n",
       "    </tr>\n",
       "    <tr>\n",
       "      <th>CollinsTeye</th>\n",
       "      <td>22.22%</td>\n",
       "      <td>22.22%</td>\n",
       "      <td>22.22%</td>\n",
       "      <td>22.22%</td>\n",
       "    </tr>\n",
       "    <tr>\n",
       "      <th>GyasiOsei</th>\n",
       "      <td>22.22%</td>\n",
       "      <td>22.22%</td>\n",
       "      <td>22.22%</td>\n",
       "      <td>22.22%</td>\n",
       "    </tr>\n",
       "    <tr>\n",
       "      <th>BenjaminA</th>\n",
       "      <td>21.03%</td>\n",
       "      <td>21.03%</td>\n",
       "      <td>21.03%</td>\n",
       "      <td>21.03%</td>\n",
       "    </tr>\n",
       "    <tr>\n",
       "      <th>TorbiR</th>\n",
       "      <td>20.72%</td>\n",
       "      <td>20.72%</td>\n",
       "      <td>20.72%</td>\n",
       "      <td>20.72%</td>\n",
       "    </tr>\n",
       "    <tr>\n",
       "      <th>IddisahK</th>\n",
       "      <td>20.00%</td>\n",
       "      <td>20.00%</td>\n",
       "      <td>20.00%</td>\n",
       "      <td>20.00%</td>\n",
       "    </tr>\n",
       "  </tbody>\n",
       "</table>\n",
       "<p>812 rows × 4 columns</p>\n",
       "</div>"
      ],
      "text/plain": [
       "              Average Completeness Average Validity Average Integrity  \\\n",
       "KwameA                      40.00%           35.56%            33.33%   \n",
       "AndrewBrew                  40.00%           35.56%            33.33%   \n",
       "ErnestBoateng               40.00%           35.56%            33.33%   \n",
       "AfranewaahN                 40.00%           35.56%            33.33%   \n",
       "AbdulAziz                   38.10%           34.29%            32.38%   \n",
       "...                            ...              ...               ...   \n",
       "CollinsTeye                 22.22%           22.22%            22.22%   \n",
       "GyasiOsei                   22.22%           22.22%            22.22%   \n",
       "BenjaminA                   21.03%           21.03%            21.03%   \n",
       "TorbiR                      20.72%           20.72%            20.72%   \n",
       "IddisahK                    20.00%           20.00%            20.00%   \n",
       "\n",
       "              Overall Average  \n",
       "KwameA                 36.30%  \n",
       "AndrewBrew             36.30%  \n",
       "ErnestBoateng          36.30%  \n",
       "AfranewaahN            36.30%  \n",
       "AbdulAziz              34.92%  \n",
       "...                       ...  \n",
       "CollinsTeye            22.22%  \n",
       "GyasiOsei              22.22%  \n",
       "BenjaminA              21.03%  \n",
       "TorbiR                 20.72%  \n",
       "IddisahK               20.00%  \n",
       "\n",
       "[812 rows x 4 columns]"
      ]
     },
     "execution_count": 10,
     "metadata": {},
     "output_type": "execute_result"
    }
   ],
   "source": [
    "df_x = df[df['year_month'] >= 202311]\n",
    "\n",
    "field_metrics = ['SLRN', 'Account Number', 'Meter Number', 'Meter SLRN', 'Phone Number', 'Email']\n",
    "\n",
    "collector_scores = calculate_quality_score_by_collector(df_x, field_metrics)\n",
    "\n",
    "collector_scores\n"
   ]
  },
  {
   "cell_type": "code",
   "execution_count": null,
   "metadata": {},
   "outputs": [],
   "source": []
  },
  {
   "cell_type": "code",
   "execution_count": null,
   "metadata": {},
   "outputs": [],
   "source": []
  },
  {
   "cell_type": "code",
   "execution_count": null,
   "metadata": {},
   "outputs": [],
   "source": []
  },
  {
   "cell_type": "code",
   "execution_count": null,
   "metadata": {},
   "outputs": [],
   "source": []
  },
  {
   "cell_type": "code",
   "execution_count": null,
   "metadata": {},
   "outputs": [],
   "source": []
  }
 ],
 "metadata": {
  "kernelspec": {
   "display_name": "Python 3",
   "language": "python",
   "name": "python3"
  },
  "language_info": {
   "codemirror_mode": {
    "name": "ipython",
    "version": 3
   },
   "file_extension": ".py",
   "mimetype": "text/x-python",
   "name": "python",
   "nbconvert_exporter": "python",
   "pygments_lexer": "ipython3",
   "version": "3.10.6"
  }
 },
 "nbformat": 4,
 "nbformat_minor": 2
}
